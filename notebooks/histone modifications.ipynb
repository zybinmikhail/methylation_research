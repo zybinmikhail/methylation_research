{
 "cells": [
  {
   "cell_type": "code",
   "execution_count": 1,
   "id": "8c239098",
   "metadata": {},
   "outputs": [],
   "source": [
    "import numpy as np\n",
    "import pandas as pd\n",
    "import matplotlib.pyplot as plt\n",
    "import seaborn as sns\n",
    "sns.set_theme(\"paper\", \"whitegrid\")\n",
    "import pyBigWig\n",
    "import pickle\n",
    "from scipy.signal import correlate\n",
    "import os"
   ]
  },
  {
   "cell_type": "code",
   "execution_count": 2,
   "id": "3cbbecbe",
   "metadata": {},
   "outputs": [],
   "source": [
    "from tqdm import tqdm\n"
   ]
  },
  {
   "cell_type": "code",
   "execution_count": 4,
   "id": "b89c695f",
   "metadata": {},
   "outputs": [],
   "source": [
    "data = pd.read_csv(\"data/Galaxy46-[plotHeatmap_on_data_13__sorted_filtered_regions].bed\", sep=\"\\t\")"
   ]
  },
  {
   "cell_type": "code",
   "execution_count": 17,
   "id": "615ef81a",
   "metadata": {},
   "outputs": [],
   "source": [
    "for i in range(1, 5):\n",
    "    cluster = data[data.deepTools_group == f\"cluster_{i}\"][[\"#chrom\", \"start\", \"end\"]]\n",
    "    cluster.sort_values(by=[\"#chrom\", \"start\"], inplace=True)\n",
    "    cluster.to_csv(f\"data/cluster_{i}.bed\", sep=\"\\t\", header=None, index=False)"
   ]
  },
  {
   "cell_type": "code",
   "execution_count": 3,
   "id": "c4e6f0f7",
   "metadata": {},
   "outputs": [
    {
     "name": "stderr",
     "output_type": "stream",
     "text": [
      "100%|██████████| 4/4 [00:00<00:00, 35.82it/s]"
     ]
    },
    {
     "name": "stdout",
     "output_type": "stream",
     "text": [
      "computeMatrix reference-point -S data/H3K27me3_logged.bw  -R data/cluster_1.bed -a 200000 -b 200000 --verbose -p 15 -o data/H3K27me3_logged_1; computeMatrix reference-point -S data/H3K36me3_logged.bw  -R data/cluster_1.bed -a 200000 -b 200000 --verbose -p 15 -o data/H3K36me3_logged_1; computeMatrix reference-point -S data/H3K4me1_logged.bw  -R data/cluster_1.bed -a 200000 -b 200000 --verbose -p 15 -o data/H3K4me1_logged_1; computeMatrix reference-point -S data/H3K4me1_logged_logged.bw  -R data/cluster_1.bed -a 200000 -b 200000 --verbose -p 15 -o data/H3K4me1_logged_logged_1; computeMatrix reference-point -S data/H3K4me3_logged.bw  -R data/cluster_1.bed -a 200000 -b 200000 --verbose -p 15 -o data/H3K4me3_logged_1; computeMatrix reference-point -S data/H3K9me3_logged.bw  -R data/cluster_1.bed -a 200000 -b 200000 --verbose -p 15 -o data/H3K9me3_logged_1; computeMatrix reference-point -S data/H3K27me3_logged.bw  -R data/cluster_2.bed -a 200000 -b 200000 --verbose -p 15 -o data/H3K27me3_logged_2; computeMatrix reference-point -S data/H3K36me3_logged.bw  -R data/cluster_2.bed -a 200000 -b 200000 --verbose -p 15 -o data/H3K36me3_logged_2; computeMatrix reference-point -S data/H3K4me1_logged.bw  -R data/cluster_2.bed -a 200000 -b 200000 --verbose -p 15 -o data/H3K4me1_logged_2; computeMatrix reference-point -S data/H3K4me1_logged_logged.bw  -R data/cluster_2.bed -a 200000 -b 200000 --verbose -p 15 -o data/H3K4me1_logged_logged_2; computeMatrix reference-point -S data/H3K4me3_logged.bw  -R data/cluster_2.bed -a 200000 -b 200000 --verbose -p 15 -o data/H3K4me3_logged_2; computeMatrix reference-point -S data/H3K9me3_logged.bw  -R data/cluster_2.bed -a 200000 -b 200000 --verbose -p 15 -o data/H3K9me3_logged_2; computeMatrix reference-point -S data/H3K27me3_logged.bw  -R data/cluster_3.bed -a 200000 -b 200000 --verbose -p 15 -o data/H3K27me3_logged_3; computeMatrix reference-point -S data/H3K36me3_logged.bw  -R data/cluster_3.bed -a 200000 -b 200000 --verbose -p 15 -o data/H3K36me3_logged_3; computeMatrix reference-point -S data/H3K4me1_logged.bw  -R data/cluster_3.bed -a 200000 -b 200000 --verbose -p 15 -o data/H3K4me1_logged_3; computeMatrix reference-point -S data/H3K4me1_logged_logged.bw  -R data/cluster_3.bed -a 200000 -b 200000 --verbose -p 15 -o data/H3K4me1_logged_logged_3; computeMatrix reference-point -S data/H3K4me3_logged.bw  -R data/cluster_3.bed -a 200000 -b 200000 --verbose -p 15 -o data/H3K4me3_logged_3; computeMatrix reference-point -S data/H3K9me3_logged.bw  -R data/cluster_3.bed -a 200000 -b 200000 --verbose -p 15 -o data/H3K9me3_logged_3; computeMatrix reference-point -S data/H3K27me3_logged.bw  -R data/cluster_4.bed -a 200000 -b 200000 --verbose -p 15 -o data/H3K27me3_logged_4; computeMatrix reference-point -S data/H3K36me3_logged.bw  -R data/cluster_4.bed -a 200000 -b 200000 --verbose -p 15 -o data/H3K36me3_logged_4; computeMatrix reference-point -S data/H3K4me1_logged.bw  -R data/cluster_4.bed -a 200000 -b 200000 --verbose -p 15 -o data/H3K4me1_logged_4; computeMatrix reference-point -S data/H3K4me1_logged_logged.bw  -R data/cluster_4.bed -a 200000 -b 200000 --verbose -p 15 -o data/H3K4me1_logged_logged_4; computeMatrix reference-point -S data/H3K4me3_logged.bw  -R data/cluster_4.bed -a 200000 -b 200000 --verbose -p 15 -o data/H3K4me3_logged_4; computeMatrix reference-point -S data/H3K9me3_logged.bw  -R data/cluster_4.bed -a 200000 -b 200000 --verbose -p 15 -o data/H3K9me3_logged_4; "
     ]
    },
    {
     "name": "stderr",
     "output_type": "stream",
     "text": [
      "\n"
     ]
    }
   ],
   "source": [
    "for i in tqdm(range(1, 5)):\n",
    "    for filename in os.listdir(\"data/colon_histone_modifications\"):\n",
    "        if filename.endswith(\".bw\"):\n",
    "            name = filename[:-3]\n",
    "            print(f\"computeMatrix reference-point -S data/{name}_logged.bw  -R data/cluster_{i}.bed -a 200000 -b 200000 --verbose -p 15 -o data/{name}_logged_{i}\", end=\"; \")"
   ]
  },
  {
   "cell_type": "code",
   "execution_count": 3,
   "id": "f48cb53a",
   "metadata": {},
   "outputs": [
    {
     "name": "stderr",
     "output_type": "stream",
     "text": [
      "100%|██████████| 4/4 [00:00<00:00, 11.28it/s]"
     ]
    },
    {
     "name": "stdout",
     "output_type": "stream",
     "text": [
      "plotHeatmap -m H3K27me3_1 -o H3K27me3_1.png --yMin 0 --yMax 4 --dpi 200; plotHeatmap -m H3K36me3_1 -o H3K36me3_1.png --yMin 0 --yMax 4 --dpi 200; plotHeatmap -m H3K4me1_1 -o H3K4me1_1.png --yMin 0 --yMax 4 --dpi 200; plotHeatmap -m H3K4me3_1 -o H3K4me3_1.png --yMin 0 --yMax 4 --dpi 200; plotHeatmap -m H3K9me3_1 -o H3K9me3_1.png --yMin 0 --yMax 4 --dpi 200; plotHeatmap -m H3K27me3_2 -o H3K27me3_2.png --yMin 0 --yMax 4 --dpi 200; plotHeatmap -m H3K36me3_2 -o H3K36me3_2.png --yMin 0 --yMax 4 --dpi 200; plotHeatmap -m H3K4me1_2 -o H3K4me1_2.png --yMin 0 --yMax 4 --dpi 200; plotHeatmap -m H3K4me3_2 -o H3K4me3_2.png --yMin 0 --yMax 4 --dpi 200; plotHeatmap -m H3K9me3_2 -o H3K9me3_2.png --yMin 0 --yMax 4 --dpi 200; plotHeatmap -m H3K27me3_3 -o H3K27me3_3.png --yMin 0 --yMax 4 --dpi 200; plotHeatmap -m H3K36me3_3 -o H3K36me3_3.png --yMin 0 --yMax 4 --dpi 200; plotHeatmap -m H3K4me1_3 -o H3K4me1_3.png --yMin 0 --yMax 4 --dpi 200; plotHeatmap -m H3K4me3_3 -o H3K4me3_3.png --yMin 0 --yMax 4 --dpi 200; plotHeatmap -m H3K9me3_3 -o H3K9me3_3.png --yMin 0 --yMax 4 --dpi 200; plotHeatmap -m H3K27me3_4 -o H3K27me3_4.png --yMin 0 --yMax 4 --dpi 200; plotHeatmap -m H3K36me3_4 -o H3K36me3_4.png --yMin 0 --yMax 4 --dpi 200; plotHeatmap -m H3K4me1_4 -o H3K4me1_4.png --yMin 0 --yMax 4 --dpi 200; plotHeatmap -m H3K4me3_4 -o H3K4me3_4.png --yMin 0 --yMax 4 --dpi 200; plotHeatmap -m H3K9me3_4 -o H3K9me3_4.png --yMin 0 --yMax 4 --dpi 200; "
     ]
    },
    {
     "name": "stderr",
     "output_type": "stream",
     "text": [
      "\n"
     ]
    }
   ],
   "source": [
    "import os\n",
    "from tqdm import tqdm\n",
    "for i in tqdm(range(1, 5)):\n",
    "    for filename in os.listdir(\"data/colon_histone_modifications\"):\n",
    "        if filename.endswith(\".bw\"):\n",
    "            print(f\"plotHeatmap -m {filename[:-3]}_{i} -o {filename[:-3]}_{i}.png --yMin 0 --yMax 4 --dpi 200\", end=\"; \")"
   ]
  },
  {
   "cell_type": "code",
   "execution_count": 6,
   "id": "7d98a73c",
   "metadata": {},
   "outputs": [
    {
     "name": "stderr",
     "output_type": "stream",
     "text": [
      " 16%|█▌        | 4/25 [01:36<08:27, 24.16s/it]\n"
     ]
    },
    {
     "ename": "KeyboardInterrupt",
     "evalue": "",
     "output_type": "error",
     "traceback": [
      "\u001b[0;31m---------------------------------------------------------------------------\u001b[0m",
      "\u001b[0;31mKeyboardInterrupt\u001b[0m                         Traceback (most recent call last)",
      "\u001b[0;32m<ipython-input-6-9b61fcc0cc29>\u001b[0m in \u001b[0;36m<module>\u001b[0;34m\u001b[0m\n\u001b[1;32m      8\u001b[0m     data_logged.addEntries([chrom for i in range(intervals.shape[0])],\n\u001b[1;32m      9\u001b[0m                            \u001b[0mintervals\u001b[0m\u001b[0;34m[\u001b[0m\u001b[0;34m:\u001b[0m\u001b[0;34m,\u001b[0m \u001b[0;36m0\u001b[0m\u001b[0;34m]\u001b[0m\u001b[0;34m.\u001b[0m\u001b[0mastype\u001b[0m\u001b[0;34m(\u001b[0m\u001b[0mint\u001b[0m\u001b[0;34m)\u001b[0m\u001b[0;34m,\u001b[0m \u001b[0mintervals\u001b[0m\u001b[0;34m[\u001b[0m\u001b[0;34m:\u001b[0m\u001b[0;34m,\u001b[0m \u001b[0;36m1\u001b[0m\u001b[0;34m]\u001b[0m\u001b[0;34m.\u001b[0m\u001b[0mastype\u001b[0m\u001b[0;34m(\u001b[0m\u001b[0mint\u001b[0m\u001b[0;34m)\u001b[0m\u001b[0;34m,\u001b[0m\u001b[0;34m\u001b[0m\u001b[0;34m\u001b[0m\u001b[0m\n\u001b[0;32m---> 10\u001b[0;31m                           intervals[:, 2])\n\u001b[0m\u001b[1;32m     11\u001b[0m \u001b[0mdata_logged\u001b[0m\u001b[0;34m.\u001b[0m\u001b[0mclose\u001b[0m\u001b[0;34m(\u001b[0m\u001b[0;34m)\u001b[0m\u001b[0;34m\u001b[0m\u001b[0;34m\u001b[0m\u001b[0m\n",
      "\u001b[0;31mKeyboardInterrupt\u001b[0m: "
     ]
    }
   ],
   "source": [
    "import pyBigWig\n",
    "import numpy as np\n",
    "for name in [\"H3K4me1\", \"H3K27me3\", \"H3K4me3\", \"H3K9me3\", \"H3K36me3\"]:\n",
    "    data = pyBigWig.open(f\"{name}.bw\")\n",
    "    header = data.chroms()\n",
    "    data_logged = pyBigWig.open(f\"{name}_logged.bw\", \"w\")\n",
    "    data_logged.addHeader(list(header.items()))\n",
    "    for chrom in header:\n",
    "        intervals = np.array(data.intervals(chrom))\n",
    "        intervals[:, 2] = np.log2(intervals[:, 2] + 1)\n",
    "        data_logged.addEntries([chrom for i in range(intervals.shape[0])], intervals[:, 0].astype(int), intervals[:, 1].astype(int), \n",
    "                              intervals[:, 2])\n",
    "    data_logged.close()"
   ]
  },
  {
   "cell_type": "code",
   "execution_count": 5,
   "id": "011cd0ef",
   "metadata": {},
   "outputs": [
    {
     "data": {
      "text/plain": [
       "'chr1'"
      ]
     },
     "execution_count": 5,
     "metadata": {},
     "output_type": "execute_result"
    }
   ],
   "source": [
    "chrom"
   ]
  },
  {
   "cell_type": "code",
   "execution_count": 15,
   "id": "fa3f66f8",
   "metadata": {},
   "outputs": [],
   "source": [
    "intervals = np.array(data.intervals(chrom))"
   ]
  },
  {
   "cell_type": "code",
   "execution_count": 17,
   "id": "de4bd4ef",
   "metadata": {},
   "outputs": [
    {
     "data": {
      "text/plain": [
       "array([0., 0., 0., ..., 0., 0., 0.])"
      ]
     },
     "execution_count": 17,
     "metadata": {},
     "output_type": "execute_result"
    }
   ],
   "source": [
    "intervals[:, 2]"
   ]
  },
  {
   "cell_type": "code",
   "execution_count": null,
   "id": "9c685be1",
   "metadata": {},
   "outputs": [],
   "source": []
  }
 ],
 "metadata": {
  "kernelspec": {
   "display_name": "venv",
   "language": "python",
   "name": "venv"
  },
  "language_info": {
   "codemirror_mode": {
    "name": "ipython",
    "version": 3
   },
   "file_extension": ".py",
   "mimetype": "text/x-python",
   "name": "python",
   "nbconvert_exporter": "python",
   "pygments_lexer": "ipython3",
   "version": "3.6.9"
  }
 },
 "nbformat": 4,
 "nbformat_minor": 5
}
