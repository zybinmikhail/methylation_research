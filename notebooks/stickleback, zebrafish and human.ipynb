{
 "cells": [
  {
   "cell_type": "code",
   "execution_count": 2,
   "id": "8a78427a",
   "metadata": {},
   "outputs": [],
   "source": [
    "import os\n",
    "import pickle\n"
   ]
  },
  {
   "cell_type": "markdown",
   "id": "78695fc4",
   "metadata": {},
   "source": [
    "# Looking at stickleback data"
   ]
  },
  {
   "cell_type": "code",
   "execution_count": null,
   "id": "f465de7c",
   "metadata": {},
   "outputs": [],
   "source": [
    "fin = open(\"Saline_Freshwater_males_averaged_w_header.bed\")"
   ]
  },
  {
   "cell_type": "code",
   "execution_count": null,
   "id": "e8069434",
   "metadata": {},
   "outputs": [],
   "source": [
    "data = pd.read_csv(\"Saline_Freshwater_males_averaged_w_header.bed\", sep=\"\\t\")"
   ]
  },
  {
   "cell_type": "code",
   "execution_count": null,
   "id": "a00cf8a2",
   "metadata": {},
   "outputs": [],
   "source": [
    "print(wilcoxon(data.saline.values, data.freshwater.values))\n",
    "print(wilcoxon(data.saline.values, data.freshwater.values, alternative=\"greater\"))\n",
    "print(wilcoxon(data.saline.values, data.freshwater.values, alternative=\"less\"))"
   ]
  },
  {
   "cell_type": "code",
   "execution_count": null,
   "id": "154f7e0f",
   "metadata": {},
   "outputs": [],
   "source": [
    "bins=100\n",
    "plt.hist(data.saline.values, bins=bins, alpha=.5, label=\"saline\")\n",
    "plt.hist(data.freshwater.values, bins=bins, alpha=.5, label=\"freshwater\")\n",
    "plt.hist(data.saline.values - data.freshwater.values, bins=bins, alpha=.5, label=\"saline - freshwater\")\n",
    "\n",
    "plt.legend()\n",
    "plt.show()"
   ]
  },
  {
   "cell_type": "markdown",
   "id": "a21cb7df",
   "metadata": {},
   "source": [
    "# Coverage and nans"
   ]
  },
  {
   "cell_type": "code",
   "execution_count": 19,
   "id": "7f909672",
   "metadata": {},
   "outputs": [
    {
     "name": "stderr",
     "output_type": "stream",
     "text": [
      "100%|██████████| 22/22 [11:32<00:00, 31.47s/it]\n",
      "100%|██████████| 22/22 [11:33<00:00, 31.54s/it]\n",
      "100%|██████████| 22/22 [11:34<00:00, 31.59s/it]\n",
      "100%|██████████| 22/22 [11:38<00:00, 31.76s/it]\n"
     ]
    }
   ],
   "source": [
    "# coverage = pyBigWig.open(\"colon_normal_coverage.bw\")\n",
    "dir = \"zebrafish informme/\"\n",
    "for filename in os.listdir(dir):\n",
    "    entropy = pyBigWig.open(os.path.join(dir, filename))\n",
    "#     coverage_per_window = []\n",
    "    entropy_per_window = []\n",
    "    window_size = 150\n",
    "    for i in tqdm(range(1, 23)):\n",
    "        chrom_len = entropy.chroms()[f\"chr{i}\"]\n",
    "#         coverage_per_window.append(coverage.stats(f\"chr{i}\", nBins=chrom_len//window_size))\n",
    "        entropy_per_window.append(entropy.stats(f\"chr{i}\", nBins=chrom_len//window_size))\n",
    "#     coverage_per_window = np.concatenate(coverage_per_window)\n",
    "    entropy_per_window = np.concatenate(entropy_per_window)\n",
    "    entropy_per_window = [entropy_per_window != None]\n",
    "#     pickle.dump(coverage_per_window, open(\"coverage_per_window.pkl\", \"wb\"))\n",
    "    pickle.dump(entropy_per_window, open(f\"{dir}/{os.path.splitext(filename)[0]}.pkl\", \"wb\"))"
   ]
  },
  {
   "cell_type": "code",
   "execution_count": null,
   "id": "883c4701",
   "metadata": {},
   "outputs": [],
   "source": [
    "import pickle\n",
    "coverage_per_window = pickle.load(open(\"coverage_per_window.pkl\", \"rb\"))\n",
    "entropy_per_window = pickle.load(open(\"entropy_per_window.pkl\", \"rb\"))"
   ]
  },
  {
   "cell_type": "code",
   "execution_count": null,
   "id": "dbd93010",
   "metadata": {},
   "outputs": [],
   "source": [
    "coverage_none = coverage_per_window[entropy_per_window == 0]\n",
    "coverage_not_none = coverage_per_window[entropy_per_window != 0]"
   ]
  },
  {
   "cell_type": "code",
   "execution_count": null,
   "id": "2e6db337",
   "metadata": {},
   "outputs": [],
   "source": [
    "coverage_none = np.clip(coverage_none, 0, 40)\n",
    "coverage_not_none = np.clip(coverage_not_none, 0, 40)"
   ]
  },
  {
   "cell_type": "code",
   "execution_count": null,
   "id": "dd9dc78f",
   "metadata": {},
   "outputs": [],
   "source": [
    "bins = 100\n",
    "plt.hist(coverage_none, bins=bins, density=True, alpha=.5, label=\"entropy not computed\")\n",
    "plt.hist(coverage_not_none, bins=bins, density=True, alpha=.5, label=\"entropy computed\")\n",
    "plt.xlabel(\"coverage\")\n",
    "plt.ylabel(\"density\")\n",
    "plt.legend()\n",
    "plt.tight_layout()\n",
    "plt.savefig(\"figures/coverages.jpg\", dpi=200)\n",
    "plt.show()"
   ]
  },
  {
   "cell_type": "markdown",
   "id": "459841c0",
   "metadata": {},
   "source": [
    "# NAN intervals distribution"
   ]
  },
  {
   "cell_type": "code",
   "execution_count": 3,
   "id": "46160252",
   "metadata": {},
   "outputs": [],
   "source": [
    "entropy_per_window = pickle.load(open(\"zebrafish informme/NME-brain.pkl\", \"rb\"))[0]"
   ]
  },
  {
   "cell_type": "code",
   "execution_count": 4,
   "id": "d5a3d133",
   "metadata": {},
   "outputs": [
    {
     "name": "stderr",
     "output_type": "stream",
     "text": [
      "100%|██████████| 8128010/8128010 [00:17<00:00, 453727.17it/s]\n"
     ]
    }
   ],
   "source": [
    "nan_regions = []\n",
    "not_nan_regions = []\n",
    "curr_region_length = 1\n",
    "is_region_nan = True\n",
    "for i in tqdm(range(1, len(entropy_per_window))):\n",
    "    if entropy_per_window[i] == entropy_per_window[i - 1]:\n",
    "        curr_region_length += 1\n",
    "    else:\n",
    "        if is_region_nan:\n",
    "            nan_regions.append(curr_region_length)\n",
    "        else:\n",
    "            not_nan_regions.append(curr_region_length)\n",
    "        is_region_nan = not is_region_nan\n",
    "        curr_region_length = 1"
   ]
  },
  {
   "cell_type": "code",
   "execution_count": 5,
   "id": "1a0fcc86",
   "metadata": {},
   "outputs": [],
   "source": [
    "nan_regions = np.array(nan_regions)\n",
    "not_nan_regions = np.array(not_nan_regions)"
   ]
  },
  {
   "cell_type": "code",
   "execution_count": 11,
   "id": "17f9e6c9",
   "metadata": {},
   "outputs": [
    {
     "data": {
      "text/plain": [
       "<matplotlib.legend.Legend at 0x7fb626fe1c88>"
      ]
     },
     "execution_count": 11,
     "metadata": {},
     "output_type": "execute_result"
    },
    {
     "data": {
      "image/png": "[encoded data removed]",
      "text/plain": [
       "<Figure size 432x288 with 1 Axes>"
      ]
     },
     "metadata": {},
     "output_type": "display_data"
    }
   ],
   "source": [
    "sns.ecdfplot(nan_regions, label=\"entropy not computed\")\n",
    "sns.ecdfplot(not_nan_regions)\n",
    "plt.legend()\n",
    "# sns.histplot(not_nan_regions)"
   ]
  },
  {
   "cell_type": "code",
   "execution_count": null,
   "id": "de81ef28",
   "metadata": {},
   "outputs": [],
   "source": [
    "bins = 25\n",
    "plt.hist(nan_regions[nan_regions < 200], bins=bins, alpha=.5, label=\"entropy not computed\")\n",
    "# plt.hist(not_nan_regions, bins=bins, alpha=.5, label=\"entropy computed\")\n",
    "plt.tight_layout()\n",
    "plt.show()"
   ]
  },
  {
   "cell_type": "code",
   "execution_count": null,
   "id": "94f5f807",
   "metadata": {},
   "outputs": [],
   "source": [
    "y = [(nan_regions <= i).mean() for i in range(1, 21)]\n",
    "x = np.arange(1, 21)\n"
   ]
  },
  {
   "cell_type": "code",
   "execution_count": null,
   "id": "4c82305c",
   "metadata": {},
   "outputs": [],
   "source": [
    "plt.plot(x, y)\n",
    "plt.xlim(1, 21)\n",
    "plt.ylim(0, 1)\n",
    "plt.xticks(x)\n",
    "plt.yticks(np.linspace(0, 1, 11))\n",
    "plt.tight_layout()\n",
    "plt.grid(.3)\n",
    "plt.xlabel(\"gap length (150bp windows)\")\n",
    "plt.ylabel(\"cumulative distribution function\")\n",
    "plt.savefig(\"figures/empty_regions_lengths.jpg\", dpi=200)"
   ]
  },
  {
   "cell_type": "code",
   "execution_count": null,
   "id": "48053833",
   "metadata": {},
   "outputs": [],
   "source": [
    "a = np.arange(1, 4).reshape(-1, 1)\n",
    "b = np.arange(100, 103).reshape(-1, 1)\n",
    "c = np.arange(3, 6).reshape(-1, 1)\n",
    "d = np.concatenate([a, b, c], axis=1)\n",
    "np.concatenate([d, d])"
   ]
  },
  {
   "cell_type": "code",
   "execution_count": null,
   "id": "e5dc0e4e",
   "metadata": {},
   "outputs": [],
   "source": [
    "entropy = pyBigWig.open(\"human_informme_results/NME-colon_normal.bw\")\n",
    "clf = pyBigWig.open(\"human_informme_results/ENTR-colon_normal.bw\")"
   ]
  },
  {
   "cell_type": "code",
   "execution_count": null,
   "id": "49b28fef",
   "metadata": {},
   "outputs": [],
   "source": [
    "plt.figure(figsize=(6, 4.5))\n",
    "clf_values = np.array(clf.intervals(\"chr1\"))[:, 2]\n",
    "entr_values = np.array(entropy.intervals(\"chr1\"))[:, 2]\n",
    "borders = []\n",
    "for i in [-2, -1, 0, 1, 2]:\n",
    "    borders.append(entr_values[clf_values == i].min())\n",
    "    plt.hist(entr_values[clf_values == i], label=f\"classified as {i}\")\n",
    "plt.legend()"
   ]
  },
  {
   "cell_type": "code",
   "execution_count": null,
   "id": "17e55233",
   "metadata": {},
   "outputs": [],
   "source": [
    "print(borders)\n"
   ]
  },
  {
   "cell_type": "code",
   "execution_count": 61,
   "id": "f04e1f61",
   "metadata": {},
   "outputs": [
    {
     "data": {
      "text/plain": [
       "'NME-muscle'"
      ]
     },
     "execution_count": 61,
     "metadata": {},
     "output_type": "execute_result"
    }
   ],
   "source": [
    "filename"
   ]
  },
  {
   "cell_type": "code",
   "execution_count": 13,
   "id": "b7a287ee",
   "metadata": {},
   "outputs": [
    {
     "name": "stderr",
     "output_type": "stream",
     "text": [
      "100%|██████████| 234043/234043 [00:06<00:00, 38039.88it/s]\n",
      "100%|██████████| 192808/192808 [00:04<00:00, 40846.61it/s]\n",
      "100%|██████████| 185421/185421 [00:04<00:00, 40362.17it/s]\n",
      "100%|██████████| 209974/209974 [00:05<00:00, 39623.94it/s]\n",
      "100%|██████████| 223715/223715 [00:05<00:00, 40579.46it/s]\n",
      "100%|██████████| 210973/210973 [00:05<00:00, 41173.08it/s]\n",
      "100%|██████████| 215016/215016 [00:05<00:00, 42317.71it/s]\n",
      "100%|██████████| 243822/243822 [00:06<00:00, 38794.98it/s]\n",
      "100%|██████████| 219706/219706 [00:05<00:00, 38267.38it/s]\n",
      "100%|██████████| 215330/215330 [00:05<00:00, 40735.88it/s]\n",
      "100%|██████████| 217827/217827 [00:05<00:00, 41084.17it/s]\n",
      "100%|██████████| 239678/239678 [00:05<00:00, 42241.29it/s]\n",
      "100%|██████████| 224544/224544 [00:05<00:00, 41433.04it/s]\n",
      "100%|██████████| 202078/202078 [00:04<00:00, 41401.59it/s]\n",
      "100%|██████████| 163151/163151 [00:03<00:00, 47133.42it/s]\n",
      "100%|██████████| 270787/270787 [00:06<00:00, 41324.24it/s]\n",
      "100%|██████████| 255273/255273 [00:05<00:00, 44025.19it/s]\n",
      "100%|██████████| 309040/309040 [00:07<00:00, 39384.16it/s]\n",
      "100%|██████████| 251947/251947 [00:06<00:00, 40579.12it/s]\n",
      "100%|██████████| 304597/304597 [00:07<00:00, 40880.45it/s]\n",
      "100%|██████████| 230644/230644 [00:05<00:00, 40512.83it/s]\n",
      "100%|██████████| 209966/209966 [00:06<00:00, 34442.02it/s]\n",
      "100%|██████████| 268153/268153 [00:08<00:00, 32827.85it/s]\n",
      "100%|██████████| 209679/209679 [00:05<00:00, 41725.64it/s]\n",
      "100%|██████████| 200289/200289 [00:04<00:00, 41128.08it/s]\n",
      "100%|██████████| 227606/227606 [00:05<00:00, 38370.95it/s]\n",
      "100%|██████████| 241460/241460 [00:06<00:00, 38262.64it/s]\n",
      "100%|██████████| 236263/236263 [00:06<00:00, 36072.04it/s]\n",
      "100%|██████████| 229730/229730 [00:05<00:00, 39786.82it/s]\n",
      "100%|██████████| 253273/253273 [00:08<00:00, 30610.38it/s]\n",
      "100%|██████████| 249290/249290 [00:06<00:00, 37145.74it/s]\n",
      "100%|██████████| 247046/247046 [00:06<00:00, 39059.98it/s]\n",
      "100%|██████████| 225490/225490 [00:05<00:00, 41561.85it/s]\n",
      "100%|██████████| 280087/280087 [00:06<00:00, 41415.56it/s]\n",
      "100%|██████████| 257131/257131 [00:06<00:00, 42107.26it/s]\n",
      "100%|██████████| 211747/211747 [00:05<00:00, 40692.58it/s]\n",
      "100%|██████████| 176621/176621 [00:03<00:00, 47394.27it/s]\n",
      "100%|██████████| 269185/269185 [00:06<00:00, 41794.48it/s]\n",
      "100%|██████████| 252323/252323 [00:06<00:00, 40891.68it/s]\n",
      "100%|██████████| 323965/323965 [00:08<00:00, 39683.05it/s]\n",
      "100%|██████████| 273609/273609 [00:06<00:00, 40869.99it/s]\n",
      "100%|██████████| 336050/336050 [00:08<00:00, 39651.67it/s]\n",
      "100%|██████████| 244523/244523 [00:05<00:00, 41679.55it/s]\n",
      "100%|██████████| 265512/265512 [00:06<00:00, 40500.19it/s]\n",
      "100%|██████████| 201073/201073 [00:05<00:00, 38208.41it/s]\n",
      "100%|██████████| 141353/141353 [00:03<00:00, 41301.76it/s]\n",
      "100%|██████████| 132114/132114 [00:03<00:00, 39479.88it/s]\n",
      "100%|██████████| 174193/174193 [00:04<00:00, 38233.89it/s]\n",
      "100%|██████████| 202603/202603 [00:05<00:00, 39416.12it/s]\n",
      "100%|██████████| 164925/164925 [00:04<00:00, 40624.66it/s]\n",
      "100%|██████████| 158437/158437 [00:03<00:00, 40737.59it/s]\n",
      "100%|██████████| 155896/155896 [00:04<00:00, 38162.70it/s]\n",
      "100%|██████████| 183219/183219 [00:04<00:00, 39876.15it/s]\n",
      "100%|██████████| 205250/205250 [00:05<00:00, 40168.83it/s]\n",
      "100%|██████████| 152987/152987 [00:03<00:00, 41605.33it/s]\n",
      "100%|██████████| 216969/216969 [00:05<00:00, 40089.62it/s]\n",
      "100%|██████████| 203963/203963 [00:05<00:00, 40418.45it/s]\n",
      "100%|██████████| 168613/168613 [00:04<00:00, 41129.36it/s]\n",
      "100%|██████████| 125042/125042 [00:02<00:00, 46794.41it/s]\n",
      "100%|██████████| 175436/175436 [00:04<00:00, 40685.53it/s]\n",
      "100%|██████████| 183252/183252 [00:04<00:00, 40266.60it/s]\n",
      "100%|██████████| 230066/230066 [00:06<00:00, 33019.68it/s]\n",
      "100%|██████████| 205983/205983 [00:05<00:00, 39095.90it/s]\n",
      "100%|██████████| 237451/237451 [00:05<00:00, 39627.16it/s]\n",
      "100%|██████████| 170793/170793 [00:04<00:00, 38277.06it/s]\n",
      "100%|██████████| 206025/206025 [00:05<00:00, 37185.03it/s]\n",
      "100%|██████████| 223686/223686 [00:05<00:00, 39281.12it/s]\n",
      "100%|██████████| 167707/167707 [00:04<00:00, 40619.21it/s]\n",
      "100%|██████████| 160128/160128 [00:03<00:00, 40173.74it/s]\n",
      "100%|██████████| 192736/192736 [00:04<00:00, 39048.33it/s]\n",
      "100%|██████████| 222171/222171 [00:05<00:00, 39867.80it/s]\n",
      "100%|██████████| 195363/195363 [00:04<00:00, 39828.74it/s]\n",
      "100%|██████████| 197384/197384 [00:04<00:00, 41834.74it/s]\n",
      "100%|██████████| 206948/206948 [00:05<00:00, 38076.80it/s]\n",
      "100%|██████████| 221063/221063 [00:05<00:00, 39448.19it/s]\n",
      "100%|██████████| 214929/214929 [00:05<00:00, 37560.90it/s]\n",
      "100%|██████████| 190802/190802 [00:04<00:00, 40956.50it/s]\n",
      "100%|██████████| 256764/256764 [00:07<00:00, 35832.22it/s]\n",
      "100%|██████████| 216526/216526 [00:05<00:00, 37794.92it/s]\n",
      "100%|██████████| 179528/179528 [00:04<00:00, 36718.58it/s]\n",
      "100%|██████████| 139753/139753 [00:03<00:00, 38099.15it/s]\n",
      "100%|██████████| 233265/233265 [00:06<00:00, 35742.74it/s]\n",
      "100%|██████████| 208121/208121 [00:05<00:00, 38282.39it/s]\n",
      "100%|██████████| 257843/257843 [00:06<00:00, 37295.75it/s]\n",
      "100%|██████████| 230539/230539 [00:06<00:00, 37568.06it/s]\n",
      "100%|██████████| 282228/282228 [00:07<00:00, 35393.03it/s]\n",
      "100%|██████████| 213306/213306 [00:05<00:00, 40011.81it/s]\n",
      "100%|██████████| 223295/223295 [00:05<00:00, 38657.46it/s]\n"
     ]
    }
   ],
   "source": [
    "dir = \"zebrafish informme\"\n",
    "for filename in os.listdir(dir):\n",
    "    entropy = pyBigWig.open(f\"{dir}/{filename}\")\n",
    "    filename = os.path.splitext(filename)[0]\n",
    "    header = entropy.chroms()\n",
    "    entropy_filled = pyBigWig.open(f\"{dir}/{filename}-filled.bw\", \"w\")\n",
    "    entropy_filled.addHeader(list(header.items()))\n",
    "\n",
    "    for chr in header:\n",
    "        intervals = np.array(entropy.intervals(chr))\n",
    "        to_add_for_chromosome = []\n",
    "        for i in tqdm(range(len(intervals) - 1)):\n",
    "            end_prev = intervals[i, 1]\n",
    "            start_next = intervals[i + 1, 0]\n",
    "            if start_next - end_prev > 1:\n",
    "                num_intervals_to_add = int((start_next - end_prev - 1) // 150)\n",
    "                starts = np.linspace(end_prev + 1, start_next - 150, num_intervals_to_add).reshape(-1, 1)\n",
    "                ends = np.linspace(end_prev + 150, start_next - 1, num_intervals_to_add).reshape(-1, 1)\n",
    "                if num_intervals_to_add <= 50:\n",
    "                    values = np.linspace(intervals[i, 2], intervals[i + 1, 2], num_intervals_to_add + 2)[1:-1].reshape(-1, 1)\n",
    "                else:\n",
    "                    values = np.full(num_intervals_to_add, .5).reshape(-1, 1)\n",
    "                to_add_for_chromosome.append(np.concatenate([starts, ends, values], axis=1))\n",
    "        to_add_for_chromosome = np.concatenate(to_add_for_chromosome)\n",
    "        res = np.concatenate([to_add_for_chromosome, intervals])\n",
    "\n",
    "        if intervals[0, 0] > 0:\n",
    "            res = np.concatenate([res, np.array([0, intervals[0, 0] - 1, .5]).reshape(1, -1)])\n",
    "        if intervals[-1, 1] < header[chr]:\n",
    "            res = np.concatenate([res, np.array([intervals[-1, 1] + 1, header[chr], .5]).reshape(1, -1)])\n",
    "\n",
    "        res = res[res[:, 0].argsort()]\n",
    "\n",
    "        entropy_filled.addEntries([chr] * len(res), \n",
    "                                  res[:, 0].astype(int), \n",
    "                                  res[:, 1].astype(int), \n",
    "                                  res[:, 2])\n",
    "    entropy_filled.close()"
   ]
  },
  {
   "cell_type": "code",
   "execution_count": null,
   "id": "64e55b26",
   "metadata": {},
   "outputs": [],
   "source": []
  }
 ],
 "metadata": {
  "kernelspec": {
   "display_name": "Python [conda env:stickleback] *",
   "language": "python",
   "name": "conda-env-stickleback-py"
  },
  "language_info": {
   "codemirror_mode": {
    "name": "ipython",
    "version": 3
   },
   "file_extension": ".py",
   "mimetype": "text/x-python",
   "name": "python",
   "nbconvert_exporter": "python",
   "pygments_lexer": "ipython3",
   "version": "3.9.13"
  }
 },
 "nbformat": 4,
 "nbformat_minor": 5
}
