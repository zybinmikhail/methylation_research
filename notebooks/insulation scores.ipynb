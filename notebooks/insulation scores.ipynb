{
 "cells": [
  {
   "cell_type": "code",
   "execution_count": 10,
   "id": "0dc623d5",
   "metadata": {},
   "outputs": [
    {
     "ename": "NameError",
     "evalue": "name 'insulation_scores' is not defined",
     "output_type": "error",
     "traceback": [
      "\u001b[0;31m---------------------------------------------------------------------------\u001b[0m",
      "\u001b[0;31mNameError\u001b[0m                                 Traceback (most recent call last)",
      "Input \u001b[0;32mIn [10]\u001b[0m, in \u001b[0;36m<cell line: 3>\u001b[0;34m()\u001b[0m\n\u001b[1;32m      1\u001b[0m entropy_values_for_correlation \u001b[38;5;241m=\u001b[39m []\n\u001b[1;32m      2\u001b[0m insulation_scores_for_correlation \u001b[38;5;241m=\u001b[39m []\n\u001b[0;32m----> 3\u001b[0m \u001b[38;5;28;01mfor\u001b[39;00m beg, end, value \u001b[38;5;129;01min\u001b[39;00m tqdm(\u001b[43minsulation_scores\u001b[49m\u001b[38;5;241m.\u001b[39mintervals(\u001b[38;5;124m\"\u001b[39m\u001b[38;5;124mchr1\u001b[39m\u001b[38;5;124m\"\u001b[39m)):\n\u001b[1;32m      4\u001b[0m     entropy_values \u001b[38;5;241m=\u001b[39m np\u001b[38;5;241m.\u001b[39marray(entropy\u001b[38;5;241m.\u001b[39mvalues(\u001b[38;5;124m\"\u001b[39m\u001b[38;5;124mchr1\u001b[39m\u001b[38;5;124m\"\u001b[39m, beg, end))\n\u001b[1;32m      5\u001b[0m     entropy_values \u001b[38;5;241m=\u001b[39m entropy_values[\u001b[38;5;241m~\u001b[39mnp\u001b[38;5;241m.\u001b[39misnan(entropy_values)]\n",
      "\u001b[0;31mNameError\u001b[0m: name 'insulation_scores' is not defined"
     ]
    }
   ],
   "source": [
    "entropy_values_for_correlation = []\n",
    "insulation_scores_for_correlation = []\n",
    "for beg, end, value in tqdm(insulation_scores.intervals(\"chr1\")):\n",
    "    entropy_values = np.array(entropy.values(\"chr1\", beg, end))\n",
    "    entropy_values = entropy_values[~np.isnan(entropy_values)]\n",
    "    entropy_values_for_correlation.append(entropy_values)\n",
    "    insulation_scores_for_correlation.append(np.full_like(entropy_values, value))"
   ]
  },
  {
   "cell_type": "code",
   "execution_count": null,
   "id": "f00711f7",
   "metadata": {},
   "outputs": [],
   "source": [
    "entropy_values_for_correlation = np.concatenate(entropy_values_for_correlation)\n",
    "insulation_scores_for_correlation = np.concatenate(insulation_scores_for_correlation)"
   ]
  },
  {
   "cell_type": "code",
   "execution_count": null,
   "id": "3976794d",
   "metadata": {},
   "outputs": [],
   "source": [
    "pearson, pearson_p_value = pearsonr(entropy_values_for_correlation, insulation_scores_for_correlation)\n",
    "print(pearson, pearson_p_value)\n",
    "spearman, spearman_p_value = spearmanr(entropy_values_for_correlation, insulation_scores_for_correlation)\n",
    "print(spearman, spearman_p_value)"
   ]
  },
  {
   "cell_type": "code",
   "execution_count": null,
   "id": "c37526e9",
   "metadata": {},
   "outputs": [],
   "source": []
  }
 ],
 "metadata": {
  "kernelspec": {
   "display_name": "Python [conda env:stickleback] *",
   "language": "python",
   "name": "conda-env-stickleback-py"
  },
  "language_info": {
   "codemirror_mode": {
    "name": "ipython",
    "version": 3
   },
   "file_extension": ".py",
   "mimetype": "text/x-python",
   "name": "python",
   "nbconvert_exporter": "python",
   "pygments_lexer": "ipython3",
   "version": "3.9.13"
  }
 },
 "nbformat": 4,
 "nbformat_minor": 5
}
