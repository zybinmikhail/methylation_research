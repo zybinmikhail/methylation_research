{
 "cells": [
  {
   "cell_type": "code",
   "execution_count": null,
   "id": "604d2df1",
   "metadata": {},
   "outputs": [],
   "source": [
    "# entropy_filled = pyBigWig.open(\"human_informme_results/NME-colon_normal-filled.bw\")\n",
    "entropy_filled = pyBigWig.open(\"entropy_blocks.bw\")"
   ]
  },
  {
   "cell_type": "code",
   "execution_count": null,
   "id": "ce4297e8",
   "metadata": {},
   "outputs": [],
   "source": [
    "header = entropy_filled.chroms()"
   ]
  },
  {
   "cell_type": "code",
   "execution_count": null,
   "id": "64ece368",
   "metadata": {},
   "outputs": [],
   "source": [
    "header.values()"
   ]
  },
  {
   "cell_type": "code",
   "execution_count": null,
   "id": "923b6845",
   "metadata": {},
   "outputs": [],
   "source": [
    "remodel = hmm.MultinomialHMM(n_components=3, n_iter=100, verbose=True)"
   ]
  },
  {
   "cell_type": "code",
   "execution_count": null,
   "id": "e8f7c2cb",
   "metadata": {},
   "outputs": [],
   "source": [
    "chroms_train = [f\"chr{i}\" for i in [1, 3]]\n",
    "chroms_test = [f\"chr{i}\" for i in [2, 4]]"
   ]
  },
  {
   "cell_type": "code",
   "execution_count": null,
   "id": "d5410e9a",
   "metadata": {},
   "outputs": [],
   "source": [
    "X_train = [np.array(entropy_filled.intervals(chr))[:, 2] for chr in chroms_train]\n",
    "lengths_train = [len(A) for A in X_train]\n",
    "X_train = np.concatenate(X_train).reshape(-1, 1)"
   ]
  },
  {
   "cell_type": "code",
   "execution_count": null,
   "id": "30240d01",
   "metadata": {},
   "outputs": [],
   "source": [
    "X_test = [np.array(entropy_filled.intervals(chr))[:, 2] for chr in chroms_test]\n",
    "lengths_test = [len(A) for A in X_test]\n",
    "X_test = np.concatenate(X_test).reshape(-1, 1)"
   ]
  },
  {
   "cell_type": "code",
   "execution_count": null,
   "id": "40cec9ea",
   "metadata": {},
   "outputs": [],
   "source": [
    "remodel.fit((X_train + 2).astype(int), lengths_train)"
   ]
  },
  {
   "cell_type": "code",
   "execution_count": null,
   "id": "0cfb55b9",
   "metadata": {},
   "outputs": [],
   "source": [
    "remodel.transmat_"
   ]
  },
  {
   "cell_type": "code",
   "execution_count": null,
   "id": "9de82f1e",
   "metadata": {},
   "outputs": [],
   "source": [
    "y_pred_train = remodel.predict((X_train + 2).astype(int), lengths_train)"
   ]
  },
  {
   "cell_type": "code",
   "execution_count": null,
   "id": "04680334",
   "metadata": {},
   "outputs": [],
   "source": [
    "start = 7000\n",
    "end = 8000\n",
    "plt.figure(figsize=(6, 4.5))\n",
    "grid = np.arange(start, end)\n",
    "plt.plot(grid, X_train[start:end], label=\"Normalized methylation entropy\")\n",
    "plt.scatter(grid, y_pred_train[start:end], s=1, c=\"red\", label=\"HMM states\")\n",
    "plt.xlabel(\"Genomic position (bp)\")\n",
    "plt.legend()\n",
    "plt.tight_layout()\n",
    "plt.savefig(\"HMM_on_clf.jpg\", dpi=200)"
   ]
  },
  {
   "cell_type": "code",
   "execution_count": 33,
   "id": "ccf066c9",
   "metadata": {},
   "outputs": [
    {
     "name": "stdout",
     "output_type": "stream",
     "text": [
      "243473.0495477875\n"
     ]
    }
   ],
   "source": [
    "rate = 2.65\n",
    "to_add = 20000\n",
    "ans = 0\n",
    "for i in range(12):\n",
    "    ans += to_add\n",
    "    ans *= (1 + rate / 100 / 12)\n",
    "print(ans)"
   ]
  },
  {
   "cell_type": "code",
   "execution_count": 35,
   "id": "2ceb9a65",
   "metadata": {},
   "outputs": [
    {
     "data": {
      "text/plain": [
       "20833.333333333332"
      ]
     },
     "execution_count": 35,
     "metadata": {},
     "output_type": "execute_result"
    }
   ],
   "source": [
    "250000 /12"
   ]
  },
  {
   "cell_type": "code",
   "execution_count": null,
   "id": "3c7f7e8a",
   "metadata": {},
   "outputs": [],
   "source": []
  },
  {
   "cell_type": "code",
   "execution_count": null,
   "id": "cc5162ab",
   "metadata": {},
   "outputs": [],
   "source": []
  }
 ],
 "metadata": {
  "kernelspec": {
   "display_name": "Python 3 (ipykernel)",
   "language": "python",
   "name": "python3"
  },
  "language_info": {
   "codemirror_mode": {
    "name": "ipython",
    "version": 3
   },
   "file_extension": ".py",
   "mimetype": "text/x-python",
   "name": "python",
   "nbconvert_exporter": "python",
   "pygments_lexer": "ipython3",
   "version": "3.7.5"
  }
 },
 "nbformat": 4,
 "nbformat_minor": 5
}
