{
 "cells": [
  {
   "cell_type": "code",
   "execution_count": 1,
   "metadata": {},
   "outputs": [],
   "source": [
    "import numpy as np\n",
    "import pandas as pd\n",
    "import matplotlib.pyplot as plt\n",
    "import seaborn as sns\n",
    "sns.set_theme(\"paper\", \"whitegrid\")\n",
    "import pyBigWig\n",
    "import pickle\n",
    "from tqdm import tqdm\n",
    "from scipy.signal import correlate"
   ]
  },
  {
   "cell_type": "code",
   "execution_count": 2,
   "metadata": {},
   "outputs": [],
   "source": [
    "entropy = pyBigWig.open(\"../data/InformME/human colon normal METH NME ENTR MML VAR/ENTR-colon_normal-filled.bw\")\n",
    "\n",
    "file_with_tads = \"../data/input/tad_boundaries_hESC_IMR90_hg19/h1.rep1.bed\"\n",
    "tad_boundaries = list(map(lambda x: x.split(), open(file_with_tads).readlines()))\n",
    "tad_boundaries = np.array(tad_boundaries)\n",
    "tad_boundaries = tad_boundaries[tad_boundaries[:, 0] != \"chrX\"]"
   ]
  },
  {
   "cell_type": "code",
   "execution_count": 3,
   "metadata": {},
   "outputs": [],
   "source": [
    "tad_boundaries_per_chr = []\n",
    "for chr in range(1, 23):\n",
    "    tad_boundaries_per_chr.append(tad_boundaries[tad_boundaries[:, 0] == f\"chr{chr}\"][:, 1].astype(int))"
   ]
  },
  {
   "cell_type": "code",
   "execution_count": 4,
   "metadata": {},
   "outputs": [],
   "source": [
    "tad_numbers = [A.shape[0] for A in tad_boundaries_per_chr]"
   ]
  },
  {
   "cell_type": "markdown",
   "metadata": {},
   "source": [
    "# Make boundaries"
   ]
  },
  {
   "cell_type": "code",
   "execution_count": 20,
   "metadata": {},
   "outputs": [],
   "source": [
    "WINDOW_RADIUS = 199950\n",
    "SIZE = 150\n",
    "IN_RADIUS = WINDOW_RADIUS // SIZE\n",
    "windows_tads = []\n",
    "windows_random = []"
   ]
  },
  {
   "cell_type": "code",
   "execution_count": 21,
   "metadata": {},
   "outputs": [],
   "source": [
    "n_windows = len(tad_boundaries)"
   ]
  },
  {
   "cell_type": "code",
   "execution_count": 22,
   "metadata": {},
   "outputs": [
    {
     "name": "stderr",
     "output_type": "stream",
     "text": [
      "100%|███████████████████████████████████████████████████████████████████████████████████████████████████████| 206/206 [00:02<00:00, 70.85it/s]\n",
      "100%|██████████████████████████████████████████████████████████████████████████████████████████████████████| 181/181 [00:01<00:00, 114.87it/s]\n",
      "100%|██████████████████████████████████████████████████████████████████████████████████████████████████████| 167/167 [00:01<00:00, 142.81it/s]\n",
      "100%|██████████████████████████████████████████████████████████████████████████████████████████████████████| 137/137 [00:00<00:00, 162.90it/s]\n",
      "100%|██████████████████████████████████████████████████████████████████████████████████████████████████████| 134/134 [00:00<00:00, 164.04it/s]\n",
      "100%|██████████████████████████████████████████████████████████████████████████████████████████████████████| 127/127 [00:00<00:00, 167.98it/s]\n",
      "100%|██████████████████████████████████████████████████████████████████████████████████████████████████████| 131/131 [00:00<00:00, 176.73it/s]\n",
      "100%|██████████████████████████████████████████████████████████████████████████████████████████████████████| 104/104 [00:00<00:00, 195.44it/s]\n",
      "100%|██████████████████████████████████████████████████████████████████████████████████████████████████████| 132/132 [00:00<00:00, 236.28it/s]\n",
      "100%|████████████████████████████████████████████████████████████████████████████████████████████████████████| 97/97 [00:00<00:00, 204.05it/s]\n",
      "100%|██████████████████████████████████████████████████████████████████████████████████████████████████████| 111/111 [00:00<00:00, 214.08it/s]\n",
      "100%|████████████████████████████████████████████████████████████████████████████████████████████████████████| 98/98 [00:00<00:00, 208.74it/s]\n",
      "100%|████████████████████████████████████████████████████████████████████████████████████████████████████████| 69/69 [00:00<00:00, 326.92it/s]\n",
      "100%|████████████████████████████████████████████████████████████████████████████████████████████████████████| 56/56 [00:00<00:00, 324.65it/s]\n",
      "100%|████████████████████████████████████████████████████████████████████████████████████████████████████████| 65/65 [00:00<00:00, 314.09it/s]\n",
      "100%|████████████████████████████████████████████████████████████████████████████████████████████████████████| 74/74 [00:00<00:00, 306.72it/s]\n",
      "100%|████████████████████████████████████████████████████████████████████████████████████████████████████████| 65/65 [00:00<00:00, 277.04it/s]\n",
      "100%|████████████████████████████████████████████████████████████████████████████████████████████████████████| 53/53 [00:00<00:00, 378.93it/s]\n",
      "100%|████████████████████████████████████████████████████████████████████████████████████████████████████████| 68/68 [00:00<00:00, 383.76it/s]\n",
      "100%|████████████████████████████████████████████████████████████████████████████████████████████████████████| 49/49 [00:00<00:00, 391.53it/s]\n",
      "100%|████████████████████████████████████████████████████████████████████████████████████████████████████████| 25/25 [00:00<00:00, 712.70it/s]\n",
      "100%|████████████████████████████████████████████████████████████████████████████████████████████████████████| 20/20 [00:00<00:00, 537.07it/s]\n"
     ]
    }
   ],
   "source": [
    "for i in range(1, 23):\n",
    "    A = np.array(entropy.intervals(f\"chr{i}\"))\n",
    "    for boundary in tqdm(tad_boundaries_per_chr[i - 1][1:-1]):\n",
    "        boundary = boundary - WINDOW_RADIUS\n",
    "        boundary = boundary // SIZE * SIZE\n",
    "        windows_tads.append(A[(A[:, 0] >= boundary) & (A[:, 0] <= boundary + 2 * WINDOW_RADIUS), 2][:2 * IN_RADIUS])"
   ]
  },
  {
   "cell_type": "code",
   "execution_count": 23,
   "metadata": {},
   "outputs": [
    {
     "name": "stderr",
     "output_type": "stream",
     "text": [
      "100%|█████████████████████████████████████████████████████████████████████████████████████████████████████| 2080/2080 [00:27<00:00, 75.42it/s]\n",
      "100%|████████████████████████████████████████████████████████████████████████████████████████████████████| 1830/1830 [00:15<00:00, 118.97it/s]\n",
      "100%|████████████████████████████████████████████████████████████████████████████████████████████████████| 1690/1690 [00:11<00:00, 145.41it/s]\n",
      "100%|████████████████████████████████████████████████████████████████████████████████████████████████████| 1390/1390 [00:08<00:00, 168.91it/s]\n",
      "100%|████████████████████████████████████████████████████████████████████████████████████████████████████| 1360/1360 [00:08<00:00, 167.34it/s]\n",
      "100%|████████████████████████████████████████████████████████████████████████████████████████████████████| 1290/1290 [00:07<00:00, 176.12it/s]\n",
      "100%|████████████████████████████████████████████████████████████████████████████████████████████████████| 1330/1330 [00:07<00:00, 179.75it/s]\n",
      "100%|████████████████████████████████████████████████████████████████████████████████████████████████████| 1060/1060 [00:05<00:00, 195.22it/s]\n",
      "100%|████████████████████████████████████████████████████████████████████████████████████████████████████| 1340/1340 [00:05<00:00, 251.02it/s]\n",
      "100%|██████████████████████████████████████████████████████████████████████████████████████████████████████| 990/990 [00:04<00:00, 198.40it/s]\n",
      "100%|████████████████████████████████████████████████████████████████████████████████████████████████████| 1130/1130 [00:05<00:00, 217.22it/s]\n",
      "100%|████████████████████████████████████████████████████████████████████████████████████████████████████| 1000/1000 [00:04<00:00, 249.64it/s]\n",
      "100%|██████████████████████████████████████████████████████████████████████████████████████████████████████| 710/710 [00:02<00:00, 352.78it/s]\n",
      "100%|██████████████████████████████████████████████████████████████████████████████████████████████████████| 580/580 [00:01<00:00, 371.07it/s]\n",
      "100%|██████████████████████████████████████████████████████████████████████████████████████████████████████| 670/670 [00:01<00:00, 389.37it/s]\n",
      "100%|██████████████████████████████████████████████████████████████████████████████████████████████████████| 760/760 [00:01<00:00, 387.36it/s]\n",
      "100%|██████████████████████████████████████████████████████████████████████████████████████████████████████| 670/670 [00:01<00:00, 354.31it/s]\n",
      "100%|██████████████████████████████████████████████████████████████████████████████████████████████████████| 550/550 [00:01<00:00, 515.16it/s]\n",
      "100%|██████████████████████████████████████████████████████████████████████████████████████████████████████| 700/700 [00:01<00:00, 514.29it/s]\n",
      "100%|██████████████████████████████████████████████████████████████████████████████████████████████████████| 510/510 [00:00<00:00, 517.09it/s]\n",
      "100%|█████████████████████████████████████████████████████████████████████████████████████████████████████| 270/270 [00:00<00:00, 1272.12it/s]\n",
      "100%|██████████████████████████████████████████████████████████████████████████████████████████████████████| 220/220 [00:00<00:00, 933.32it/s]\n"
     ]
    }
   ],
   "source": [
    "chroms = entropy.chroms()\n",
    "for i, (chrom, size) in enumerate(chroms.items()):\n",
    "    A = np.array(entropy.intervals(f\"chr{i + 1}\"))\n",
    "    \n",
    "    boundaries = np.random.randint(WINDOW_RADIUS, size - 2 * WINDOW_RADIUS, tad_numbers[i] * 10)\n",
    "    for boundary in tqdm(boundaries):\n",
    "        boundary = boundary // SIZE * SIZE\n",
    "        windows_random.append(A[(A[:, 0] >= boundary) & (A[:, 0] <= boundary + 2 * WINDOW_RADIUS), 2][:2 * IN_RADIUS])"
   ]
  },
  {
   "cell_type": "markdown",
   "metadata": {},
   "source": [
    "## Save files"
   ]
  },
  {
   "cell_type": "code",
   "execution_count": 28,
   "metadata": {},
   "outputs": [],
   "source": [
    "windows_tads = [A for A in windows_tads if A.size == 2 * IN_RADIUS]\n",
    "pickle.dump(windows_tads, open(\"../data/output/windows_tads.pkl\", \"wb\"))"
   ]
  },
  {
   "cell_type": "code",
   "execution_count": 29,
   "metadata": {},
   "outputs": [],
   "source": [
    "windows_random = [A for A in windows_random if A.size == 2 * IN_RADIUS]\n",
    "pickle.dump(windows_random, open(\"../data/output/windows_random.pkl\", \"wb\"))"
   ]
  },
  {
   "cell_type": "markdown",
   "metadata": {},
   "source": [
    "# Plotting"
   ]
  },
  {
   "cell_type": "code",
   "execution_count": 32,
   "metadata": {},
   "outputs": [],
   "source": [
    "windows_tads = pickle.load(open(\"../data/output/windows_tads.pkl\", \"rb\"))\n",
    "windows_random = pickle.load(open(\"../data/output/windows_random.pkl\", \"rb\"))"
   ]
  },
  {
   "cell_type": "code",
   "execution_count": 39,
   "metadata": {},
   "outputs": [],
   "source": [
    "windows_tads = np.vstack(windows_tads)\n",
    "windows_random = np.vstack(windows_random)"
   ]
  },
  {
   "cell_type": "code",
   "execution_count": 40,
   "metadata": {},
   "outputs": [],
   "source": [
    "filter = np.ones(2 * IN_RADIUS).reshape(-1, 1)\n",
    "filter[:IN_RADIUS] = -1\n",
    "filter = filter.reshape(-1, 1)\n",
    "\n",
    "responses_tads = windows_tads @ filter\n",
    "responses_random = windows_random @ filter"
   ]
  },
  {
   "cell_type": "code",
   "execution_count": 41,
   "metadata": {},
   "outputs": [
    {
     "data": {
      "text/plain": [
       "(209, 1)"
      ]
     },
     "execution_count": 41,
     "metadata": {},
     "output_type": "execute_result"
    }
   ],
   "source": [
    "responses_tads.shape"
   ]
  },
  {
   "cell_type": "code",
   "execution_count": 42,
   "metadata": {},
   "outputs": [
    {
     "data": {
      "text/plain": [
       "(2151, 1)"
      ]
     },
     "execution_count": 42,
     "metadata": {},
     "output_type": "execute_result"
    }
   ],
   "source": [
    "responses_random.shape"
   ]
  },
  {
   "cell_type": "code",
   "execution_count": 43,
   "metadata": {},
   "outputs": [
    {
     "data": {
      "image/png": "[encoded data removed]",
      "text/plain": [
       "<Figure size 432x288 with 1 Axes>"
      ]
     },
     "metadata": {
      "needs_background": "light"
     },
     "output_type": "display_data"
    }
   ],
   "source": [
    "bins = 25\n",
    "plt.hist(np.abs(responses_random), bins=bins, \n",
    "         label=\"responses from random windows\", alpha=.5, density=True)\n",
    "plt.hist(np.abs(responses_tads), bins=bins, \n",
    "         label=\"responses from windows near ends of TADs\", alpha=.5, density=True)\n",
    "plt.legend()\n",
    "plt.show()"
   ]
  },
  {
   "cell_type": "code",
   "execution_count": 45,
   "metadata": {},
   "outputs": [
    {
     "data": {
      "text/plain": [
       "<AxesSubplot:ylabel='Density'>"
      ]
     },
     "execution_count": 45,
     "metadata": {},
     "output_type": "execute_result"
    },
    {
     "data": {
      "image/png": "[encoded data removed]",
      "text/plain": [
       "<Figure size 432x288 with 1 Axes>"
      ]
     },
     "metadata": {
      "needs_background": "light"
     },
     "output_type": "display_data"
    }
   ],
   "source": [
    "sns.kdeplot(data=\n",
    "            pd.DataFrame([np.abs(responses_tads.ravel()), \n",
    "                          np.abs(responses_random.ravel())], index=[\"tads\", \"random\"]).T,\n",
    "           clip=(0, 500), bw_adjust=.5)"
   ]
  },
  {
   "cell_type": "code",
   "execution_count": 46,
   "metadata": {},
   "outputs": [
    {
     "data": {
      "text/plain": [
       "<AxesSubplot:ylabel='Density'>"
      ]
     },
     "execution_count": 46,
     "metadata": {},
     "output_type": "execute_result"
    },
    {
     "data": {
      "image/png": "[encoded data removed]",
      "text/plain": [
       "<Figure size 432x288 with 1 Axes>"
      ]
     },
     "metadata": {
      "needs_background": "light"
     },
     "output_type": "display_data"
    }
   ],
   "source": [
    "sns.kdeplot(data=\n",
    "            pd.DataFrame([np.array(windows_tads).mean(axis=1), \n",
    "                          np.array(windows_random).mean(axis=1)], index=[\"tads\", \"random\"]).T,\n",
    "           bw_adjust=.5)"
   ]
  },
  {
   "cell_type": "code",
   "execution_count": 47,
   "metadata": {},
   "outputs": [
    {
     "data": {
      "text/plain": [
       "<AxesSubplot:ylabel='Density'>"
      ]
     },
     "execution_count": 47,
     "metadata": {},
     "output_type": "execute_result"
    },
    {
     "data": {
      "image/png": "[encoded data removed]",
      "text/plain": [
       "<Figure size 432x288 with 1 Axes>"
      ]
     },
     "metadata": {
      "needs_background": "light"
     },
     "output_type": "display_data"
    }
   ],
   "source": [
    "sns.kdeplot(data=\n",
    "            pd.DataFrame([np.array(windows_tads).std(axis=1), \n",
    "                          np.array(windows_random).std(axis=1)], index=[\"tads\", \"random\"]).T,\n",
    "           bw_adjust=.5)"
   ]
  },
  {
   "cell_type": "code",
   "execution_count": null,
   "metadata": {},
   "outputs": [],
   "source": []
  },
  {
   "cell_type": "code",
   "execution_count": null,
   "metadata": {},
   "outputs": [],
   "source": [
    "X = np.concatenate([windows_random, windows_tads])"
   ]
  },
  {
   "cell_type": "code",
   "execution_count": null,
   "metadata": {},
   "outputs": [],
   "source": [
    "y = np.ones(X.shape[0])\n",
    "y[:len(windows_random)] = 0"
   ]
  },
  {
   "cell_type": "code",
   "execution_count": null,
   "metadata": {},
   "outputs": [],
   "source": [
    "rng_state = np.random.get_state()\n",
    "np.random.shuffle(X)\n",
    "np.random.set_state(rng_state)\n",
    "np.random.shuffle(y)"
   ]
  },
  {
   "cell_type": "code",
   "execution_count": null,
   "metadata": {},
   "outputs": [],
   "source": [
    "from sklearn.model_selection import train_test_split\n",
    "from sklearn.linear_model import LogisticRegression\n",
    "from sklearn.metrics import accuracy_score, roc_auc_score, f1_score"
   ]
  },
  {
   "cell_type": "code",
   "execution_count": null,
   "metadata": {},
   "outputs": [],
   "source": [
    "X_train, X_test, y_train, y_test = train_test_split(X, y, test_size=.2, shuffle=True, random_state=243123)"
   ]
  },
  {
   "cell_type": "code",
   "execution_count": null,
   "metadata": {},
   "outputs": [],
   "source": [
    "logreg = LogisticRegression(n_jobs=-1)"
   ]
  },
  {
   "cell_type": "code",
   "execution_count": null,
   "metadata": {},
   "outputs": [],
   "source": [
    "logreg.fit(X_train, y_train)"
   ]
  },
  {
   "cell_type": "code",
   "execution_count": null,
   "metadata": {},
   "outputs": [],
   "source": [
    "y_pred = logreg.predict(X_test)"
   ]
  },
  {
   "cell_type": "code",
   "execution_count": null,
   "metadata": {},
   "outputs": [],
   "source": [
    "for metrics in [accuracy_score, roc_auc_score, f1_score]:\n",
    "    print(metrics(y_test, y_pred))"
   ]
  },
  {
   "cell_type": "code",
   "execution_count": null,
   "metadata": {},
   "outputs": [],
   "source": [
    "plt.plot(logreg.coef_.ravel())"
   ]
  },
  {
   "cell_type": "code",
   "execution_count": null,
   "metadata": {},
   "outputs": [],
   "source": []
  }
 ],
 "metadata": {
  "kernelspec": {
   "display_name": "Python 3 (ipykernel)",
   "language": "python",
   "name": "python3"
  },
  "language_info": {
   "codemirror_mode": {
    "name": "ipython",
    "version": 3
   },
   "file_extension": ".py",
   "mimetype": "text/x-python",
   "name": "python",
   "nbconvert_exporter": "python",
   "pygments_lexer": "ipython3",
   "version": "3.9.13"
  }
 },
 "nbformat": 4,
 "nbformat_minor": 2
}
